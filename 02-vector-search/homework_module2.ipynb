{
 "cells": [
  {
   "cell_type": "markdown",
   "id": "03d89a8c-40bf-4593-854a-cf27c47b0516",
   "metadata": {},
   "source": [
    "# Homework Module 2 LLM Zoomcamp"
   ]
  },
  {
   "cell_type": "markdown",
   "id": "e5f107ec-e504-4f74-b345-6a97c900cb49",
   "metadata": {},
   "source": [
    "Qdrant uses fastembed under the hood to turn text into vectors.\n",
    "\n",
    "We will now explore this library\n",
    "\n",
    "Make sure it's installed:\n",
    "```\n",
    "pip install fastembed\n",
    "```"
   ]
  },
  {
   "cell_type": "code",
   "execution_count": 17,
   "id": "6b3c897f-125c-4985-ac71-44465b38d0df",
   "metadata": {},
   "outputs": [],
   "source": [
    "import pandas as pd\n",
    "import numpy as np"
   ]
  },
  {
   "cell_type": "code",
   "execution_count": 1,
   "id": "baba0c5a-bf01-44d5-88d0-8a1e9f6fd7be",
   "metadata": {},
   "outputs": [],
   "source": [
    "from fastembed import TextEmbedding"
   ]
  },
  {
   "cell_type": "markdown",
   "id": "68d18964-ed98-4f5f-b9fd-b7263699b23d",
   "metadata": {},
   "source": [
    "## Q1\n",
    "\n",
    "Embed the query: `'I just discovered the course. Can I join now?'`. Use the `'jinaai/jina-embeddings-v2-small-en'` model.\n",
    "\n",
    "You should get a numpy array of size 512.\n",
    "\n",
    "What's the minimal value in this array?\n",
    "\n",
    "- -0.51\n",
    "- **-0.11**\n",
    "- 0\n",
    "- 0.51\n",
    "\n"
   ]
  },
  {
   "cell_type": "code",
   "execution_count": 4,
   "id": "cdc2e74a-f071-4057-9b3b-2dfe7c1dc679",
   "metadata": {},
   "outputs": [],
   "source": [
    "from qdrant_client import QdrantClient, models"
   ]
  },
  {
   "cell_type": "code",
   "execution_count": 5,
   "id": "82489ebf-e029-4b93-8d19-c213cbc8c5ff",
   "metadata": {},
   "outputs": [],
   "source": [
    "# Initialize the client\n",
    "client = QdrantClient(\"http://localhost:6333\") #connecting to local Qdrant instance"
   ]
  },
  {
   "cell_type": "code",
   "execution_count": 2,
   "id": "b5adecf3-c7cd-4231-9aa2-c1aecfc5b6c3",
   "metadata": {},
   "outputs": [
    {
     "name": "stdout",
     "output_type": "stream",
     "text": [
      "I just discovered the course. Can I join now?\n"
     ]
    }
   ],
   "source": [
    "query = 'I just discovered the course. Can I join now?'\n",
    "print(query)"
   ]
  },
  {
   "cell_type": "code",
   "execution_count": 3,
   "id": "3cbb47d2-9f71-4250-9d67-bc0fc191c5ac",
   "metadata": {},
   "outputs": [],
   "source": [
    "model_handle = \"jinaai/jina-embeddings-v2-small-en\""
   ]
  },
  {
   "cell_type": "code",
   "execution_count": 25,
   "id": "c0bdae3b-fbe1-4103-b08f-479d8806f636",
   "metadata": {},
   "outputs": [],
   "source": [
    "# Embed the query\n",
    "model = TextEmbedding(model_handle)\n",
    "embedded_query = np.array(list(model.embed([query])))[0]"
   ]
  },
  {
   "cell_type": "code",
   "execution_count": 26,
   "id": "13f2b207-2bff-4b03-a867-bbb421a8d5e9",
   "metadata": {},
   "outputs": [
    {
     "data": {
      "text/plain": [
       "(512,)"
      ]
     },
     "execution_count": 26,
     "metadata": {},
     "output_type": "execute_result"
    }
   ],
   "source": [
    "embedded_query.shape"
   ]
  },
  {
   "cell_type": "code",
   "execution_count": 27,
   "id": "09154732-a7cd-44e1-a4a5-b914e695d97a",
   "metadata": {},
   "outputs": [
    {
     "data": {
      "text/plain": [
       "np.float64(-0.11726373885183883)"
      ]
     },
     "execution_count": 27,
     "metadata": {},
     "output_type": "execute_result"
    }
   ],
   "source": [
    "embedded_query.min()"
   ]
  },
  {
   "cell_type": "markdown",
   "id": "b518c757-ca4d-40b6-a7d2-6b87e53723de",
   "metadata": {},
   "source": [
    "## Cosine similarity\n",
    "\n",
    "The vectors that our embedding model returns are already normalized: their length is 1.0.\n",
    "\n",
    "You can check that by using the norm function:\n",
    "```\n",
    "import numpy as np\n",
    "np.linalg.norm(q)\n",
    "```\n",
    "Which means that we can simply compute the dot product between two vectors to learn the cosine similarity between them.\n",
    "\n",
    "For example, if you compute the cosine of the query vector with itself, the result will be 1.0:\n",
    "```\n",
    "q.dot(q)\n",
    "```"
   ]
  },
  {
   "cell_type": "code",
   "execution_count": 29,
   "id": "94b6bf1b-a0b6-482b-af8f-497d39cbe890",
   "metadata": {},
   "outputs": [
    {
     "name": "stdout",
     "output_type": "stream",
     "text": [
      "1.0\n",
      "1.0000000000000002\n"
     ]
    }
   ],
   "source": [
    "q = embedded_query\n",
    "print(np.linalg.norm(q))\n",
    "print(q.dot(q))"
   ]
  },
  {
   "cell_type": "markdown",
   "id": "90d54cc2-c443-4cc3-8689-2eab0f8a295c",
   "metadata": {},
   "source": [
    "## Q2\n",
    "\n",
    "Now let's embed this document:\n",
    "```\n",
    "doc = 'Can I still join the course after the start date?'\n",
    "```\n",
    "What's the cosine similarity between the vector for the query and the vector for the document?\n",
    "\n",
    "- 0.3\n",
    "- 0.5\n",
    "- 0.7\n",
    "- **0.9**"
   ]
  },
  {
   "cell_type": "code",
   "execution_count": 30,
   "id": "7e3a821c-3e1c-490f-8aac-347d3f76a683",
   "metadata": {},
   "outputs": [],
   "source": [
    "# The document\n",
    "doc = 'Can I still join the course after the start date?'"
   ]
  },
  {
   "cell_type": "code",
   "execution_count": 36,
   "id": "220a5add-30b3-4b7d-86aa-fb7f6814abcf",
   "metadata": {},
   "outputs": [],
   "source": [
    "# Embed the document\n",
    "embedded_doc = np.array(list(model.embed([doc])))[0]"
   ]
  },
  {
   "cell_type": "code",
   "execution_count": 33,
   "id": "b605876a-91d4-4b8a-b563-1188a2a7e075",
   "metadata": {},
   "outputs": [
    {
     "name": "stdout",
     "output_type": "stream",
     "text": [
      "0.9008528895674548\n",
      "0.9008528895674548\n"
     ]
    }
   ],
   "source": [
    "d = embedded_doc\n",
    "print(d.dot(q))\n",
    "print(q.dot(d))"
   ]
  },
  {
   "cell_type": "markdown",
   "id": "a51c8c9a-e667-49b8-97e2-1c545397fa82",
   "metadata": {},
   "source": [
    "## Q3\n",
    "\n",
    "For Q3 and Q4 we will use these documents:\n",
    "\n",
    "```\n",
    "documents = [{'text': \"Yes, even if you don't register, you're still eligible to submit the homeworks.\\nBe aware, however, that there will be deadlines for turning in the final projects. So don't leave everything for the last minute.\",\n",
    "  'section': 'General course-related questions',\n",
    "  'question': 'Course - Can I still join the course after the start date?',\n",
    "  'course': 'data-engineering-zoomcamp'},\n",
    " {'text': 'Yes, we will keep all the materials after the course finishes, so you can follow the course at your own pace after it finishes.\\nYou can also continue looking at the homeworks and continue preparing for the next cohort. I guess you can also start working on your final capstone project.',\n",
    "  'section': 'General course-related questions',\n",
    "  'question': 'Course - Can I follow the course after it finishes?',\n",
    "  'course': 'data-engineering-zoomcamp'},\n",
    " {'text': \"The purpose of this document is to capture frequently asked technical questions\\nThe exact day and hour of the course will be 15th Jan 2024 at 17h00. The course will start with the first  “Office Hours'' live.1\\nSubscribe to course public Google Calendar (it works from Desktop only).\\nRegister before the course starts using this link.\\nJoin the course Telegram channel with announcements.\\nDon’t forget to register in DataTalks.Club's Slack and join the channel.\",\n",
    "  'section': 'General course-related questions',\n",
    "  'question': 'Course - When will the course start?',\n",
    "  'course': 'data-engineering-zoomcamp'},\n",
    " {'text': 'You can start by installing and setting up all the dependencies and requirements:\\nGoogle cloud account\\nGoogle Cloud SDK\\nPython 3 (installed with Anaconda)\\nTerraform\\nGit\\nLook over the prerequisites and syllabus to see if you are comfortable with these subjects.',\n",
    "  'section': 'General course-related questions',\n",
    "  'question': 'Course - What can I do before the course starts?',\n",
    "  'course': 'data-engineering-zoomcamp'},\n",
    " {'text': 'Star the repo! Share it with friends if you find it useful ❣️\\nCreate a PR if you see you can improve the text or the structure of the repository.',\n",
    "  'section': 'General course-related questions',\n",
    "  'question': 'How can we contribute to the course?',\n",
    "  'course': 'data-engineering-zoomcamp'}]\n",
    "```\n",
    "\n",
    "Compute the embeddings for the text field, and compute the cosine between the query vector and all the documents.\n",
    "\n",
    "What's the document index with the highest similarity? (Indexing starts from 0):\n",
    "\n",
    "- 0\n",
    "- **1**\n",
    "- 2\n",
    "- 3\n",
    "- 4\n",
    "  \n",
    "_Hint_: if you put all the embeddings of the text field in one matrix V (a single 2-dimensional numpy array), then computing the cosine becomes a matrix multiplication:\n",
    "\n",
    "```\n",
    "V.dot(q)\n",
    "```\n",
    "If this hint is rather confusing you than helping, feel free to ignore it."
   ]
  },
  {
   "cell_type": "code",
   "execution_count": 34,
   "id": "4e7ee7ca-df9a-4b1f-b48a-a5c65fcd9839",
   "metadata": {},
   "outputs": [],
   "source": [
    "documents = [{'text': \"Yes, even if you don't register, you're still eligible to submit the homeworks.\\nBe aware, however, that there will be deadlines for turning in the final projects. So don't leave everything for the last minute.\",\n",
    "  'section': 'General course-related questions',\n",
    "  'question': 'Course - Can I still join the course after the start date?',\n",
    "  'course': 'data-engineering-zoomcamp'},\n",
    " {'text': 'Yes, we will keep all the materials after the course finishes, so you can follow the course at your own pace after it finishes.\\nYou can also continue looking at the homeworks and continue preparing for the next cohort. I guess you can also start working on your final capstone project.',\n",
    "  'section': 'General course-related questions',\n",
    "  'question': 'Course - Can I follow the course after it finishes?',\n",
    "  'course': 'data-engineering-zoomcamp'},\n",
    " {'text': \"The purpose of this document is to capture frequently asked technical questions\\nThe exact day and hour of the course will be 15th Jan 2024 at 17h00. The course will start with the first  “Office Hours'' live.1\\nSubscribe to course public Google Calendar (it works from Desktop only).\\nRegister before the course starts using this link.\\nJoin the course Telegram channel with announcements.\\nDon’t forget to register in DataTalks.Club's Slack and join the channel.\",\n",
    "  'section': 'General course-related questions',\n",
    "  'question': 'Course - When will the course start?',\n",
    "  'course': 'data-engineering-zoomcamp'},\n",
    " {'text': 'You can start by installing and setting up all the dependencies and requirements:\\nGoogle cloud account\\nGoogle Cloud SDK\\nPython 3 (installed with Anaconda)\\nTerraform\\nGit\\nLook over the prerequisites and syllabus to see if you are comfortable with these subjects.',\n",
    "  'section': 'General course-related questions',\n",
    "  'question': 'Course - What can I do before the course starts?',\n",
    "  'course': 'data-engineering-zoomcamp'},\n",
    " {'text': 'Star the repo! Share it with friends if you find it useful ❣️\\nCreate a PR if you see you can improve the text or the structure of the repository.',\n",
    "  'section': 'General course-related questions',\n",
    "  'question': 'How can we contribute to the course?',\n",
    "  'course': 'data-engineering-zoomcamp'}]"
   ]
  },
  {
   "cell_type": "code",
   "execution_count": 58,
   "id": "914dfd70-3f8c-4c17-a71b-ab0ac8a5fc9a",
   "metadata": {},
   "outputs": [
    {
     "name": "stdout",
     "output_type": "stream",
     "text": [
      "[\"Yes, even if you don't register, you're still eligible to submit the homeworks.\\nBe aware, however, that there will be deadlines for turning in the final projects. So don't leave everything for the last minute.\", 'Yes, we will keep all the materials after the course finishes, so you can follow the course at your own pace after it finishes.\\nYou can also continue looking at the homeworks and continue preparing for the next cohort. I guess you can also start working on your final capstone project.', \"The purpose of this document is to capture frequently asked technical questions\\nThe exact day and hour of the course will be 15th Jan 2024 at 17h00. The course will start with the first  “Office Hours'' live.1\\nSubscribe to course public Google Calendar (it works from Desktop only).\\nRegister before the course starts using this link.\\nJoin the course Telegram channel with announcements.\\nDon’t forget to register in DataTalks.Club's Slack and join the channel.\", 'You can start by installing and setting up all the dependencies and requirements:\\nGoogle cloud account\\nGoogle Cloud SDK\\nPython 3 (installed with Anaconda)\\nTerraform\\nGit\\nLook over the prerequisites and syllabus to see if you are comfortable with these subjects.', 'Star the repo! Share it with friends if you find it useful ❣️\\nCreate a PR if you see you can improve the text or the structure of the repository.']\n"
     ]
    }
   ],
   "source": [
    "all_text = [doc['text'] for doc in documents]\n",
    "print(all_text)"
   ]
  },
  {
   "cell_type": "code",
   "execution_count": 64,
   "id": "f7a0634b-c61c-4dcf-aea5-d0ccbe647a3b",
   "metadata": {},
   "outputs": [
    {
     "data": {
      "text/plain": [
       "array([[-0.0249525 , -0.0396454 , -0.00437672, ...,  0.06779866,\n",
       "         0.0377203 , -0.00470724],\n",
       "       [-0.0594709 , -0.08523984,  0.01292091, ...,  0.09599709,\n",
       "         0.05420843, -0.00029461],\n",
       "       [-0.06846454, -0.04079098,  0.04998121, ...,  0.06578071,\n",
       "         0.02872077, -0.01115215],\n",
       "       [-0.04640506, -0.02555229,  0.02241224, ...,  0.03410312,\n",
       "         0.06813592, -0.0064033 ],\n",
       "       [-0.05394912, -0.04693814,  0.00794725, ...,  0.05402997,\n",
       "         0.03033385, -0.01254518]], shape=(5, 512))"
      ]
     },
     "execution_count": 64,
     "metadata": {},
     "output_type": "execute_result"
    }
   ],
   "source": [
    "embedded_documents = np.array(list(model.embed(all_text)))\n",
    "\n",
    "embedded_documents"
   ]
  },
  {
   "cell_type": "code",
   "execution_count": 67,
   "id": "14ec9e18-1e07-425e-93f4-697be728ebca",
   "metadata": {},
   "outputs": [
    {
     "data": {
      "text/plain": [
       "array([0.76296847, 0.81823782, 0.80853974, 0.7133079 , 0.73044992])"
      ]
     },
     "execution_count": 67,
     "metadata": {},
     "output_type": "execute_result"
    }
   ],
   "source": [
    "embedded_documents.dot(q)"
   ]
  },
  {
   "cell_type": "code",
   "execution_count": 68,
   "id": "79cfec1f-58d6-4481-8017-338db6674acc",
   "metadata": {},
   "outputs": [
    {
     "data": {
      "text/plain": [
       "np.int64(1)"
      ]
     },
     "execution_count": 68,
     "metadata": {},
     "output_type": "execute_result"
    }
   ],
   "source": [
    "embedded_documents.dot(q).argmax()"
   ]
  },
  {
   "cell_type": "markdown",
   "id": "306022ec-7987-4bc3-80b9-b33418a2aba7",
   "metadata": {},
   "source": [
    "## Q4\n",
    "\n",
    "Now let's calculate a new field, which is a concatenation of question and text:\n",
    "```\n",
    "full_text = doc['question'] + ' ' + doc['text']\n",
    "```\n",
    "Embed this field and compute the cosine between it and the query vector. What's the highest scoring document?\n",
    "\n",
    "- **0**\n",
    "- 1\n",
    "- 2\n",
    "- 3\n",
    "- 4\n",
    "\n",
    "Is it different from Q3? If yes, why?"
   ]
  },
  {
   "cell_type": "code",
   "execution_count": 69,
   "id": "2550ab05-90a9-45bf-a11c-e98fc7d4d4ff",
   "metadata": {},
   "outputs": [
    {
     "name": "stdout",
     "output_type": "stream",
     "text": [
      "[\"Course - Can I still join the course after the start date? Yes, even if you don't register, you're still eligible to submit the homeworks.\\nBe aware, however, that there will be deadlines for turning in the final projects. So don't leave everything for the last minute.\", 'Course - Can I follow the course after it finishes? Yes, we will keep all the materials after the course finishes, so you can follow the course at your own pace after it finishes.\\nYou can also continue looking at the homeworks and continue preparing for the next cohort. I guess you can also start working on your final capstone project.', \"Course - When will the course start? The purpose of this document is to capture frequently asked technical questions\\nThe exact day and hour of the course will be 15th Jan 2024 at 17h00. The course will start with the first  “Office Hours'' live.1\\nSubscribe to course public Google Calendar (it works from Desktop only).\\nRegister before the course starts using this link.\\nJoin the course Telegram channel with announcements.\\nDon’t forget to register in DataTalks.Club's Slack and join the channel.\", 'Course - What can I do before the course starts? You can start by installing and setting up all the dependencies and requirements:\\nGoogle cloud account\\nGoogle Cloud SDK\\nPython 3 (installed with Anaconda)\\nTerraform\\nGit\\nLook over the prerequisites and syllabus to see if you are comfortable with these subjects.', 'How can we contribute to the course? Star the repo! Share it with friends if you find it useful ❣️\\nCreate a PR if you see you can improve the text or the structure of the repository.']\n"
     ]
    }
   ],
   "source": [
    "full_text = [doc['question'] + ' ' + doc['text'] for doc in documents]\n",
    "print(full_text)"
   ]
  },
  {
   "cell_type": "code",
   "execution_count": 74,
   "id": "af608d78-a432-419c-99e8-19b6c6b736f2",
   "metadata": {},
   "outputs": [
    {
     "data": {
      "text/plain": [
       "array([[-0.03958748, -0.06904069,  0.01146618, ...,  0.09114032,\n",
       "         0.04739896, -0.01033183],\n",
       "       [-0.08249755, -0.08627812,  0.00593604, ...,  0.10836487,\n",
       "         0.05654416,  0.00051011],\n",
       "       [-0.07798266, -0.05428376,  0.05052968, ...,  0.07455595,\n",
       "         0.04321019, -0.01098255],\n",
       "       [-0.0719691 , -0.05147855,  0.02265294, ...,  0.04538724,\n",
       "         0.09451547, -0.00157571],\n",
       "       [-0.08384529, -0.05699563,  0.00955793, ...,  0.04386464,\n",
       "         0.034007  , -0.01080237]], shape=(5, 512))"
      ]
     },
     "execution_count": 74,
     "metadata": {},
     "output_type": "execute_result"
    }
   ],
   "source": [
    "embedded_fulltext = np.array(list(model.embed(full_text)))\n",
    "\n",
    "embedded_fulltext"
   ]
  },
  {
   "cell_type": "code",
   "execution_count": 75,
   "id": "cc2d878b-0244-4fd9-bcdf-ea097eb138ba",
   "metadata": {},
   "outputs": [
    {
     "data": {
      "text/plain": [
       "array([0.85145432, 0.84365942, 0.8408287 , 0.7755158 , 0.80860078])"
      ]
     },
     "execution_count": 75,
     "metadata": {},
     "output_type": "execute_result"
    }
   ],
   "source": [
    "embedded_fulltext.dot(q)"
   ]
  },
  {
   "cell_type": "code",
   "execution_count": 76,
   "id": "210681a3-05fa-449e-988c-1f5789371236",
   "metadata": {},
   "outputs": [
    {
     "data": {
      "text/plain": [
       "np.int64(0)"
      ]
     },
     "execution_count": 76,
     "metadata": {},
     "output_type": "execute_result"
    }
   ],
   "source": [
    "embedded_fulltext.dot(q).argmax()"
   ]
  },
  {
   "cell_type": "markdown",
   "id": "0e75b510-0e35-4adf-a961-81f9d77f7474",
   "metadata": {},
   "source": [
    "The 0th document after incorporating the question field is more similar to the query because a lot more keywords from the query is shows on the question field. "
   ]
  },
  {
   "cell_type": "markdown",
   "id": "c1da25b5-dcf7-4429-8e1f-915ba37360d0",
   "metadata": {},
   "source": [
    "## Q5. Selecting the embedding model\n",
    "Now let's select a smaller embedding model. What's the smallest dimensionality for models in fastembed?\n",
    "\n",
    "- 128\n",
    "- 256\n",
    "- **384**\n",
    "- 512"
   ]
  },
  {
   "cell_type": "code",
   "execution_count": 81,
   "id": "32343e8c-d49d-4815-a3d6-1484c8742fda",
   "metadata": {},
   "outputs": [
    {
     "data": {
      "text/plain": [
       "np.int64(384)"
      ]
     },
     "execution_count": 81,
     "metadata": {},
     "output_type": "execute_result"
    }
   ],
   "source": [
    "smallest_dimensionality = np.min([model['dim'] for model in TextEmbedding.list_supported_models()])\n",
    "smallest_dimensionality"
   ]
  },
  {
   "cell_type": "code",
   "execution_count": 87,
   "id": "3c9adf41-2ee5-4cdd-99f1-cd3cc85c2b3a",
   "metadata": {},
   "outputs": [
    {
     "data": {
      "text/plain": [
       "{'model': 'BAAI/bge-small-en',\n",
       " 'sources': {'hf': 'Qdrant/bge-small-en',\n",
       "  'url': 'https://storage.googleapis.com/qdrant-fastembed/BAAI-bge-small-en.tar.gz',\n",
       "  '_deprecated_tar_struct': True},\n",
       " 'model_file': 'model_optimized.onnx',\n",
       " 'description': 'Text embeddings, Unimodal (text), English, 512 input tokens truncation, Prefixes for queries/documents: necessary, 2023 year.',\n",
       " 'license': 'mit',\n",
       " 'size_in_GB': 0.13,\n",
       " 'additional_files': [],\n",
       " 'dim': 384,\n",
       " 'tasks': {}}"
      ]
     },
     "execution_count": 87,
     "metadata": {},
     "output_type": "execute_result"
    }
   ],
   "source": [
    "TextEmbedding.list_supported_models()[3]"
   ]
  },
  {
   "cell_type": "markdown",
   "id": "a39fa972-3b23-4289-aad5-387022c8b1b9",
   "metadata": {},
   "source": [
    "One of these models is `BAAI/bge-small-en`. Let's use it."
   ]
  },
  {
   "cell_type": "markdown",
   "id": "1954ac92-a34a-4b9a-8f30-031a92ad6cc1",
   "metadata": {},
   "source": [
    "## Q6. Indexing with qdrant (2 points)\n",
    "For the last question, we will use more documents.\n",
    "\n",
    "We will select only FAQ records from our ml zoomcamp:\n",
    "\n",
    "```\n",
    "import requests \n",
    "\n",
    "docs_url = 'https://github.com/alexeygrigorev/llm-rag-workshop/raw/main/notebooks/documents.json'\n",
    "docs_response = requests.get(docs_url)\n",
    "documents_raw = docs_response.json()\n",
    "\n",
    "\n",
    "documents = []\n",
    "\n",
    "for course in documents_raw:\n",
    "    course_name = course['course']\n",
    "    if course_name != 'machine-learning-zoomcamp':\n",
    "        continue\n",
    "\n",
    "    for doc in course['documents']:\n",
    "        doc['course'] = course_name\n",
    "        documents.append(doc)\n",
    "```\n",
    "Add them to qdrant using the model form Q5.\n",
    "\n",
    "When adding the data, use both question and answer fields:\n",
    "\n",
    "```\n",
    "text = doc['question'] + ' ' + doc['text']\n",
    "```\n",
    "\n",
    "After the data is inserted, use the question from Q1 for querying the collection.\n",
    "\n",
    "What's the highest score in the results? (The score for the first returned record):\n",
    "\n",
    "- 0.97\n",
    "- **0.87**\n",
    "- 0.77\n",
    "- 0.67"
   ]
  },
  {
   "cell_type": "code",
   "execution_count": 88,
   "id": "cf09f267-40bd-43bb-81f9-c4aba8270dc2",
   "metadata": {},
   "outputs": [],
   "source": [
    "import requests \n",
    "\n",
    "docs_url = 'https://github.com/alexeygrigorev/llm-rag-workshop/raw/main/notebooks/documents.json'\n",
    "docs_response = requests.get(docs_url)\n",
    "documents_raw = docs_response.json()\n",
    "\n",
    "\n",
    "documents = []\n",
    "\n",
    "for course in documents_raw:\n",
    "    course_name = course['course']\n",
    "    if course_name != 'machine-learning-zoomcamp':\n",
    "        continue\n",
    "\n",
    "    for doc in course['documents']:\n",
    "        doc['course'] = course_name\n",
    "        documents.append(doc)"
   ]
  },
  {
   "cell_type": "code",
   "execution_count": 90,
   "id": "6bb3a031-7faa-447f-b70e-fcaf71abeb32",
   "metadata": {},
   "outputs": [
    {
     "data": {
      "text/plain": [
       "{'text': 'Machine Learning Zoomcamp FAQ\\nThe purpose of this document is to capture frequently asked technical questions.\\nWe did this for our data engineering course and it worked quite well. Check this document for inspiration on how to structure your questions and answers:\\nData Engineering Zoomcamp FAQ\\nIn the course GitHub repository there’s a link. Here it is: https://airtable.com/shryxwLd0COOEaqXo\\nwork',\n",
       " 'section': 'General course-related questions',\n",
       " 'question': 'How do I sign up?',\n",
       " 'course': 'machine-learning-zoomcamp'}"
      ]
     },
     "execution_count": 90,
     "metadata": {},
     "output_type": "execute_result"
    }
   ],
   "source": [
    "documents[0]"
   ]
  },
  {
   "cell_type": "code",
   "execution_count": 94,
   "id": "e668adb5-9878-47ed-b8da-f91740cc7240",
   "metadata": {},
   "outputs": [],
   "source": [
    "# Create a collection\n",
    "\n",
    "model_handle = \"BAAI/bge-small-en\"\n",
    "collection_name = \"HW2\"\n",
    "EMBEDDING_DIMENSIONALITY = smallest_dimensionality"
   ]
  },
  {
   "cell_type": "code",
   "execution_count": null,
   "id": "9f69f26a-3ce5-417e-89d5-108cd1a2c513",
   "metadata": {},
   "outputs": [],
   "source": [
    "# Create the collection with specified vector parameters\n",
    "# Run only ONCE\n",
    "\n",
    "# client.create_collection(\n",
    "#     collection_name=collection_name,\n",
    "#     vectors_config=models.VectorParams(\n",
    "#         size=EMBEDDING_DIMENSIONALITY,  # Dimensionality of the vectors\n",
    "#         distance=models.Distance.COSINE  # Distance metric for similarity search\n",
    "#     )\n",
    "# )"
   ]
  },
  {
   "cell_type": "code",
   "execution_count": 95,
   "id": "0d0d58ce-12ff-42d9-9ac7-3d03f66ff6db",
   "metadata": {},
   "outputs": [],
   "source": [
    "points = []\n",
    "id = 0\n",
    "\n",
    "for course in documents_raw:\n",
    "    for doc in course['documents']:\n",
    "\n",
    "        point = models.PointStruct(\n",
    "            id=id,\n",
    "            vector=models.Document(text=doc['question'] + ' ' + doc['text'], model=model_handle), #embed text locally with \"jinaai/jina-embeddings-v2-small-en\" from FastEmbed\n",
    "            payload={\n",
    "                \"text\": doc['text'],\n",
    "                \"section\": doc['section'],\n",
    "                \"course\": course['course']\n",
    "            } #save all needed metadata fields\n",
    "        )\n",
    "        points.append(point)\n",
    "\n",
    "        id += 1"
   ]
  },
  {
   "cell_type": "code",
   "execution_count": 97,
   "id": "68e08d0b-ce44-4cf6-bd0c-84944cd1d765",
   "metadata": {},
   "outputs": [
    {
     "data": {
      "application/vnd.jupyter.widget-view+json": {
       "model_id": "4d27a74e08d341a1bbea2f648209fe9b",
       "version_major": 2,
       "version_minor": 0
      },
      "text/plain": [
       "Fetching 5 files:   0%|          | 0/5 [00:00<?, ?it/s]"
      ]
     },
     "metadata": {},
     "output_type": "display_data"
    },
    {
     "data": {
      "application/vnd.jupyter.widget-view+json": {
       "model_id": "5f9c792d166943e9a4dfceddc751a0ce",
       "version_major": 2,
       "version_minor": 0
      },
      "text/plain": [
       "special_tokens_map.json:   0%|          | 0.00/125 [00:00<?, ?B/s]"
      ]
     },
     "metadata": {},
     "output_type": "display_data"
    },
    {
     "data": {
      "application/vnd.jupyter.widget-view+json": {
       "model_id": "ddce4d786be84052a8077ce0c3f1c4ee",
       "version_major": 2,
       "version_minor": 0
      },
      "text/plain": [
       "model_optimized.onnx:   0%|          | 0.00/133M [00:00<?, ?B/s]"
      ]
     },
     "metadata": {},
     "output_type": "display_data"
    },
    {
     "data": {
      "application/vnd.jupyter.widget-view+json": {
       "model_id": "bd121abf1398464b801a50bf250a46a8",
       "version_major": 2,
       "version_minor": 0
      },
      "text/plain": [
       "config.json:   0%|          | 0.00/701 [00:00<?, ?B/s]"
      ]
     },
     "metadata": {},
     "output_type": "display_data"
    },
    {
     "data": {
      "application/vnd.jupyter.widget-view+json": {
       "model_id": "cfa0466ac2184a7d97d7f640e879a791",
       "version_major": 2,
       "version_minor": 0
      },
      "text/plain": [
       "tokenizer_config.json:   0%|          | 0.00/366 [00:00<?, ?B/s]"
      ]
     },
     "metadata": {},
     "output_type": "display_data"
    },
    {
     "data": {
      "application/vnd.jupyter.widget-view+json": {
       "model_id": "c6293ac4b9a1479b8532c628b581e528",
       "version_major": 2,
       "version_minor": 0
      },
      "text/plain": [
       "tokenizer.json: 0.00B [00:00, ?B/s]"
      ]
     },
     "metadata": {},
     "output_type": "display_data"
    },
    {
     "data": {
      "text/plain": [
       "UpdateResult(operation_id=1, status=<UpdateStatus.COMPLETED: 'completed'>)"
      ]
     },
     "execution_count": 97,
     "metadata": {},
     "output_type": "execute_result"
    }
   ],
   "source": [
    "client.upsert(\n",
    "    collection_name=collection_name,\n",
    "    points=points\n",
    ")"
   ]
  },
  {
   "cell_type": "code",
   "execution_count": 98,
   "id": "9b1f5c24-32e5-45ef-b7b1-3c1bf0a6c847",
   "metadata": {},
   "outputs": [],
   "source": [
    "def search(query, limit=1):\n",
    "\n",
    "    results = client.query_points(\n",
    "        collection_name=collection_name,\n",
    "        query=models.Document( #embed the query text locally with \"jinaai/jina-embeddings-v2-small-en\"\n",
    "            text=query,\n",
    "            model=model_handle \n",
    "        ),\n",
    "        limit=limit, # top closest matches\n",
    "        with_payload=True #to get metadata in the results\n",
    "    )\n",
    "\n",
    "    return results"
   ]
  },
  {
   "cell_type": "code",
   "execution_count": 99,
   "id": "96778810-5c03-4a67-84b9-61ac86486a7a",
   "metadata": {},
   "outputs": [
    {
     "data": {
      "text/plain": [
       "QueryResponse(points=[ScoredPoint(id=449, version=1, score=0.8703172, payload={'text': 'Yes, you can. You won’t be able to submit some of the homeworks, but you can still take part in the course.\\nIn order to get a certificate, you need to submit 2 out of 3 course projects and review 3 peers’ Projects by the deadline. It means that if you join the course at the end of November and manage to work on two projects, you will still be eligible for a certificate.', 'section': 'General course-related questions', 'course': 'machine-learning-zoomcamp'}, vector=None, shard_key=None, order_value=None)])"
      ]
     },
     "execution_count": 99,
     "metadata": {},
     "output_type": "execute_result"
    }
   ],
   "source": [
    "query = 'I just discovered the course. Can I join now?'\n",
    "result = search(query)\n",
    "\n",
    "result"
   ]
  }
 ],
 "metadata": {
  "kernelspec": {
   "display_name": "Python 3 (ipykernel)",
   "language": "python",
   "name": "python3"
  },
  "language_info": {
   "codemirror_mode": {
    "name": "ipython",
    "version": 3
   },
   "file_extension": ".py",
   "mimetype": "text/x-python",
   "name": "python",
   "nbconvert_exporter": "python",
   "pygments_lexer": "ipython3",
   "version": "3.12.1"
  }
 },
 "nbformat": 4,
 "nbformat_minor": 5
}
